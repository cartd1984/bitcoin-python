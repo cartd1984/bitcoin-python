{
 "cells": [
  {
   "cell_type": "code",
   "execution_count": 1,
   "metadata": {},
   "outputs": [
    {
     "name": "stderr",
     "output_type": "stream",
     "text": [
      "/Users/danielcarter/anaconda3/lib/python3.7/site-packages/pandas/core/generic.py:2531: UserWarning: The spaces in these column names will not be changed. In pandas versions < 0.14, spaces were converted to underscores.\n",
      "  dtype=dtype, method=method)\n"
     ]
    },
    {
     "data": {
      "text/html": [
       "<div>\n",
       "<style scoped>\n",
       "    .dataframe tbody tr th:only-of-type {\n",
       "        vertical-align: middle;\n",
       "    }\n",
       "\n",
       "    .dataframe tbody tr th {\n",
       "        vertical-align: top;\n",
       "    }\n",
       "\n",
       "    .dataframe thead th {\n",
       "        text-align: right;\n",
       "    }\n",
       "</style>\n",
       "<table border=\"1\" class=\"dataframe\">\n",
       "  <thead>\n",
       "    <tr style=\"text-align: right;\">\n",
       "      <th></th>\n",
       "      <th>Date</th>\n",
       "      <th>Difference</th>\n",
       "      <th>Volume</th>\n",
       "    </tr>\n",
       "  </thead>\n",
       "  <tbody>\n",
       "    <tr>\n",
       "      <th>0</th>\n",
       "      <td>30-Oct-17</td>\n",
       "      <td>174.14</td>\n",
       "      <td>1,772,150,000</td>\n",
       "    </tr>\n",
       "    <tr>\n",
       "      <th>1</th>\n",
       "      <td>28-Oct-17</td>\n",
       "      <td>187.53</td>\n",
       "      <td>1,403,920,000</td>\n",
       "    </tr>\n",
       "    <tr>\n",
       "      <th>2</th>\n",
       "      <td>27-Oct-17</td>\n",
       "      <td>259.57</td>\n",
       "      <td>1,710,130,000</td>\n",
       "    </tr>\n",
       "    <tr>\n",
       "      <th>3</th>\n",
       "      <td>26-Oct-17</td>\n",
       "      <td>255.58</td>\n",
       "      <td>1,905,040,000</td>\n",
       "    </tr>\n",
       "    <tr>\n",
       "      <th>4</th>\n",
       "      <td>25-Oct-17</td>\n",
       "      <td>356.45</td>\n",
       "      <td>1,966,990,000</td>\n",
       "    </tr>\n",
       "    <tr>\n",
       "      <th>5</th>\n",
       "      <td>19-Oct-17</td>\n",
       "      <td>213.29</td>\n",
       "      <td>1,780,540,000</td>\n",
       "    </tr>\n",
       "    <tr>\n",
       "      <th>6</th>\n",
       "      <td>17-Oct-17</td>\n",
       "      <td>327.63</td>\n",
       "      <td>1,821,570,000</td>\n",
       "    </tr>\n",
       "    <tr>\n",
       "      <th>7</th>\n",
       "      <td>15-Oct-17</td>\n",
       "      <td>373.87</td>\n",
       "      <td>1,976,040,000</td>\n",
       "    </tr>\n",
       "  </tbody>\n",
       "</table>\n",
       "</div>"
      ],
      "text/plain": [
       "        Date  Difference         Volume\n",
       "0  30-Oct-17      174.14  1,772,150,000\n",
       "1  28-Oct-17      187.53  1,403,920,000\n",
       "2  27-Oct-17      259.57  1,710,130,000\n",
       "3  26-Oct-17      255.58  1,905,040,000\n",
       "4  25-Oct-17      356.45  1,966,990,000\n",
       "5  19-Oct-17      213.29  1,780,540,000\n",
       "6  17-Oct-17      327.63  1,821,570,000\n",
       "7  15-Oct-17      373.87  1,976,040,000"
      ]
     },
     "execution_count": 1,
     "metadata": {},
     "output_type": "execute_result"
    }
   ],
   "source": [
    "import matplotlib.pyplot  as plt\n",
    "import numpy as np\n",
    "import pandas as pd\n",
    "import sqlite3\n",
    "\n",
    "\n",
    "#Creation of SQL Database\n",
    "conn = sqlite3.connect('bitcoin_price_comparison.db')\n",
    "cursor = conn.cursor()\n",
    "\n",
    "#Fetch of bitcoin data and conversion to SQL\n",
    "bitcoin_prices = pd.read_csv('bitcoin_price_history.csv')\n",
    "bitcoin_prices.to_sql('bitcoin_prices', conn, if_exists='replace')\n",
    "\n",
    "#SQL Query that shows Difference in Price and accompanying Volume\n",
    "pd.read_sql_query(\"\"\"\n",
    "    SELECT Date, High - Low AS 'Difference', Volume FROM bitcoin_prices \n",
    "    WHERE Volume <> '-'\n",
    "    ORDER BY \n",
    "        CAST (Volume AS NUMERIC(18,0))\n",
    "        ASC LIMIT 8;\n",
    "\"\"\", conn)"
   ]
  },
  {
   "cell_type": "code",
   "execution_count": 2,
   "metadata": {},
   "outputs": [
    {
     "data": {
      "image/png": "[encoded data removed]",
      "text/plain": [
       "<Figure size 432x288 with 1 Axes>"
      ]
     },
     "metadata": {
      "needs_background": "light"
     },
     "output_type": "display_data"
    }
   ],
   "source": [
    "# Function that takes the SQL Query and converts data into a scatterplot. \n",
    "# NOTE: I chose a sample of 15 to make the plot easier to read. \n",
    "# ALSO NOTE: The volume data did not display correctly. \n",
    "\n",
    "def sql_select_all():\n",
    "    conn = sqlite3.connect('crypto_price_comparisons.db')\n",
    "    cursor = conn.cursor()\n",
    "    \n",
    "    bitcoin_prices = pd.read_csv('bitcoin_price_history.csv')\n",
    "    bitcoin_prices.to_sql('bitcoin_prices', conn, if_exists='replace')\n",
    "    \n",
    "    sql = \"\"\"\n",
    "    SELECT \n",
    "            High - Low AS 'Difference', \n",
    "            Volume \n",
    "        FROM bitcoin_prices \n",
    "        WHERE Volume <> '-' \n",
    "        ORDER BY CAST (Volume AS NUMERIC(18, 0)) ASC LIMIT 15;\n",
    "    \"\"\"\n",
    "    cursor.execute(sql)\n",
    "    rows = cursor.fetchall()\n",
    "    df = pd.DataFrame(list(rows),columns=[\"difference\",\"volume\"])\n",
    "    x = df.difference\n",
    "    y = df.volume\n",
    "    df.sort_values(by=\"volume\", ascending=False)\n",
    "    plt.title(\"Volume vs Difference in Bitcoin Price\", fontsize=\"14\")\n",
    "    plt.scatter(x, y, s=10)\n",
    "    plt.xlabel(\"Difference\")\n",
    "    plt.ylabel(\"Volume\", fontsize=\"12\")\n",
    "    plt.tick_params(axis='both',which='major',labelsize=14)\n",
    "    cursor.close()\n",
    "\n",
    "sql_select_all()\n"
   ]
  },
  {
   "cell_type": "markdown",
   "metadata": {},
   "source": [
    "# Conclusion\n",
    "\n",
    "#### In spite of the errors and difficulties in getting my data to display correctly, it appears that there is a limited or very weak correlation at best between the price difference in bitcoin currency and the volume of transactions."
   ]
  }
 ],
 "metadata": {
  "kernelspec": {
   "display_name": "Python 3",
   "language": "python",
   "name": "python3"
  },
  "language_info": {
   "codemirror_mode": {
    "name": "ipython",
    "version": 3
   },
   "file_extension": ".py",
   "mimetype": "text/x-python",
   "name": "python",
   "nbconvert_exporter": "python",
   "pygments_lexer": "ipython3",
   "version": "3.7.3"
  }
 },
 "nbformat": 4,
 "nbformat_minor": 2
}
